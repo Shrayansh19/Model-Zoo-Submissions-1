{
  "nbformat": 4,
  "nbformat_minor": 0,
  "metadata": {
    "colab": {
      "name": "ResNET.ipynb",
      "provenance": [],
      "collapsed_sections": []
    },
    "kernelspec": {
      "name": "python3",
      "display_name": "Python 3"
    },
    "language_info": {
      "name": "python"
    },
    "accelerator": "GPU"
  },
  "cells": [
    {
      "cell_type": "code",
      "metadata": {
        "id": "tAoYF2Jz056d"
      },
      "source": [
        "import os\n",
        "import math\n",
        "import tensorflow as tf\n",
        "import matplotlib.pyplot as plt\n",
        "\n",
        "import warnings\n",
        "warnings.filterwarnings('ignore')"
      ],
      "execution_count": 1,
      "outputs": []
    },
    {
      "cell_type": "code",
      "metadata": {
        "id": "JWuG9w5q1rnz"
      },
      "source": [
        "def BasicBlock(inputs, filter_num, training=None, stride=1, **kwargs):\n",
        "  \n",
        "  if stride != 1:\n",
        "    downsample = tf.keras.Sequential()\n",
        "    downsample.add(tf.keras.layers.Conv2D(filters=filter_num,\n",
        "                                          kernel_size=(1, 1),\n",
        "                                          strides=stride))\n",
        "    downsample.add(tf.keras.layers.BatchNormalization())\n",
        "  else:\n",
        "    downsample = tf.keras.layers.Lambda(lambda x: x)\n",
        "\n",
        "  residual = downsample(inputs)\n",
        "\n",
        "  x = tf.keras.layers.Conv2D(filters=filter_num,\n",
        "                             kernel_size=(3, 3),\n",
        "                             strides=stride,\n",
        "                             padding=\"same\")(inputs)\n",
        "  x = tf.keras.layers.BatchNormalization()(x, training=training)\n",
        "  x = tf.keras.layers.Activation('relu')(x)\n",
        "  x = tf.keras.layers.Conv2D(filters=filter_num,\n",
        "                             kernel_size=(3, 3),\n",
        "                             strides=1,\n",
        "                             padding=\"same\",\n",
        "                             activation=\"relu\")(x)\n",
        "  x = tf.keras.layers.BatchNormalization()(x, training=training)\n",
        "\n",
        "  x = tf.keras.layers.Add()([residual, x])\n",
        "  output = tf.keras.layers.Activation('relu')(x)\n",
        "  \n",
        "  return output"
      ],
      "execution_count": 2,
      "outputs": []
    },
    {
      "cell_type": "code",
      "metadata": {
        "id": "2FBf3Wo_7_yS"
      },
      "source": [
        "def BottleNeck(inputs, filter_num, training=None, stride=1, **kwargs):\n",
        " \n",
        "    downsample = tf.keras.Sequential()\n",
        "    downsample.add(tf.keras.layers.Conv2D(filters=filter_num * 4,\n",
        "                                          kernel_size=(1, 1),\n",
        "                                          strides=stride))\n",
        "    downsample.add(tf.keras.layers.BatchNormalization())\n",
        "   \n",
        "    residual = downsample(inputs)\n",
        "\n",
        "    x = tf.keras.layers.Conv2D(filters=filter_num,\n",
        "                               kernel_size=(1, 1),\n",
        "                               strides=1,\n",
        "                               padding='same')(inputs)\n",
        "    x = tf.keras.layers.BatchNormalization()(x, training=training)\n",
        "    x = tf.keras.layers.Activation('relu')(x)\n",
        "    x = tf.keras.layers.Conv2D(filters=filter_num,\n",
        "                               kernel_size=(3, 3),\n",
        "                               strides=stride,\n",
        "                               padding='same')(x)\n",
        "    x = tf.keras.layers.BatchNormalization()(x, training=training)\n",
        "    x = tf.keras.layers.Activation('relu')(x)\n",
        "    x = tf.keras.layers.Conv2D(filters=filter_num * 4,\n",
        "                               kernel_size=(1, 1),\n",
        "                               strides=1,\n",
        "                               padding='same')(x)\n",
        "    x = tf.keras.layers.BatchNormalization()(x, training=training)\n",
        "\n",
        "    x = tf.keras.layers.Add()([residual, x])\n",
        "    output = tf.keras.layers.Activation('relu')(x)\n",
        "\n",
        "    return output"
      ],
      "execution_count": 3,
      "outputs": []
    },
    {
      "cell_type": "code",
      "metadata": {
        "id": "euFMFfas8Dki"
      },
      "source": [
        "def make_basic_block_layer(x, filter_num, blocks, training, stride=1):\n",
        "\n",
        "    x = BasicBlock(x, filter_num, training, stride=stride)\n",
        "    for _ in range(1, blocks):\n",
        "        x = BasicBlock(x, filter_num, training, stride=1)\n",
        "\n",
        "    return x"
      ],
      "execution_count": 4,
      "outputs": []
    },
    {
      "cell_type": "code",
      "metadata": {
        "id": "BdFfP6FzvRbM"
      },
      "source": [
        "def make_bottleneck_layer(filter_num, blocks, stride=1):\n",
        "    \n",
        "    x = BottleNeck(x, filter_num, training, stride=stride)\n",
        "\n",
        "    for _ in range(1, blocks):\n",
        "        x = BottleNeck(x, filter_num, training, stride=1)\n",
        "\n",
        "    return res_block"
      ],
      "execution_count": 5,
      "outputs": []
    },
    {
      "cell_type": "code",
      "metadata": {
        "id": "fNY4Advj58eb"
      },
      "source": [
        "def ResNetTypeI(layer_params, training=None, mask=None):\n",
        "    inputs = tf.keras.layers.Input(shape=(32, 32, 3))\n",
        "    x = tf.keras.layers.Conv2D(filters=64,\n",
        "                               kernel_size=(7, 7),\n",
        "                               strides=2,\n",
        "                               padding=\"same\")(inputs)\n",
        "    x = tf.keras.layers.BatchNormalization()(x, training=training)\n",
        "    x = tf.keras.layers.Activation('relu')(x)\n",
        "    x = tf.keras.layers.MaxPool2D(pool_size=(3, 3),\n",
        "                                  strides=2,\n",
        "                                  padding=\"same\")(x)\n",
        "    x = make_basic_block_layer(x, filter_num=64,  blocks=layer_params[0], training=training)\n",
        "    x = make_basic_block_layer(x, filter_num=128, blocks=layer_params[1], training=training, stride=2)\n",
        "    x = make_basic_block_layer(x, filter_num=256, blocks=layer_params[2], training=training, stride=2)\n",
        "    x = make_basic_block_layer(x, filter_num=512, blocks=layer_params[3], training=training, stride=2)\n",
        "    x = tf.keras.layers.GlobalAveragePooling2D()(x)\n",
        "    output = tf.keras.layers.Dense(units=NUM_CLASSES, activation=tf.keras.activations.softmax)(x)\n",
        "    \n",
        "    model = tf.keras.Model(inputs=inputs, outputs=output, name='Resnet34')\n",
        "    \n",
        "    return model"
      ],
      "execution_count": 6,
      "outputs": []
    },
    {
      "cell_type": "code",
      "metadata": {
        "id": "We1-Mynm1C7f"
      },
      "source": [
        "def ResNetTypeII(layer_params, training=None, mask=None):\n",
        "\n",
        "    inputs = tf.keras.layers.Input(shape=(32, 32, 3))\n",
        "    x = tf.keras.layers.Conv2D(filters=64,\n",
        "                               kernel_size=(7, 7),\n",
        "                               strides=2,\n",
        "                               padding=\"same\")(inputs)\n",
        "    x = tf.keras.layers.BatchNormalization()(x, training=training)\n",
        "    x = tf.keras.layers.Activation('relu')(x)\n",
        "    x = tf.keras.layers.MaxPool2D(pool_size=(3, 3),\n",
        "                                  strides=2,\n",
        "                                  padding=\"same\")(x)\n",
        "    x = make_bottleneck_layer(x, filter_num=64,  blocks=layer_params[0], training=training)\n",
        "    x = make_bottleneck_layer(x, filter_num=128, blocks=layer_params[1], training=training, stride=2)\n",
        "    x = make_bottleneck_layer(x, filter_num=256, blocks=layer_params[2], training=training, stride=2)\n",
        "    x = make_bottleneck_layer(x, filter_num=512, blocks=layer_params[3], training=training, stride=2)\n",
        "    x = tf.keras.layers.GlobalAveragePooling2D()(x)\n",
        "    output = tf.keras.layers.Dense(units=NUM_CLASSES, activation=tf.keras.activations.softmax)(x)\n",
        "\n",
        "    model = tf.keras.Model(inputs=inputs, outputs=output, name='Resnet34')\n",
        "\n",
        "    return model"
      ],
      "execution_count": 7,
      "outputs": []
    },
    {
      "cell_type": "code",
      "metadata": {
        "id": "XkcbDP5i1JEE"
      },
      "source": [
        "def resnet_34():\n",
        "  return ResNetTypeI(layer_params=[3, 4, 6, 3])"
      ],
      "execution_count": 8,
      "outputs": []
    },
    {
      "cell_type": "code",
      "metadata": {
        "colab": {
          "base_uri": "https://localhost:8080/"
        },
        "id": "2WxlmAkJ6XBO",
        "outputId": "47a48784-a073-4c12-f2e5-71f8ed1d9420"
      },
      "source": [
        "(x_train, y_train), (x_test, y_test) = tf.keras.datasets.cifar10.load_data()"
      ],
      "execution_count": 9,
      "outputs": [
        {
          "output_type": "stream",
          "text": [
            "Downloading data from https://www.cs.toronto.edu/~kriz/cifar-10-python.tar.gz\n",
            "170500096/170498071 [==============================] - 4s 0us/step\n"
          ],
          "name": "stdout"
        }
      ]
    },
    {
      "cell_type": "code",
      "metadata": {
        "id": "9LJACo0YVEZI"
      },
      "source": [
        "def scheduler(epoch):\n",
        "  \n",
        "  initial_lrate = (10 ** -3)\n",
        "  k = 0.1\n",
        "  lrate = initial_lrate * math.exp(-k * (epoch))\n",
        "  \n",
        "  return lrate"
      ],
      "execution_count": 10,
      "outputs": []
    },
    {
      "cell_type": "code",
      "metadata": {
        "colab": {
          "base_uri": "https://localhost:8080/",
          "height": 282
        },
        "id": "v2gub0GpVJHN",
        "outputId": "a7ba9985-d056-42b5-85a8-a549d55a1a25"
      },
      "source": [
        "epochs = [i for i in range(1, 50, 1)]\n",
        "lrate = [scheduler(i) for i in range(1, 50, 1)]\n",
        "plt.plot(epochs, lrate)"
      ],
      "execution_count": 11,
      "outputs": [
        {
          "output_type": "execute_result",
          "data": {
            "text/plain": [
              "[<matplotlib.lines.Line2D at 0x7ff9028e3f10>]"
            ]
          },
          "metadata": {
            "tags": []
          },
          "execution_count": 11
        },
        {
          "output_type": "display_data",
          "data": {
            "image/png": "[encoded data removed]",
            "text/plain": [
              "<Figure size 432x288 with 1 Axes>"
            ]
          },
          "metadata": {
            "tags": [],
            "needs_background": "light"
          }
        }
      ]
    },
    {
      "cell_type": "code",
      "metadata": {
        "id": "tVVrhN0kVO3O"
      },
      "source": [
        "callback = tf.keras.callbacks.LearningRateScheduler(scheduler)"
      ],
      "execution_count": 12,
      "outputs": []
    },
    {
      "cell_type": "code",
      "metadata": {
        "id": "TXBL0m_VI7F8"
      },
      "source": [
        "EPOCHS = 50\n",
        "NUM_CLASSES = 10"
      ],
      "execution_count": 13,
      "outputs": []
    },
    {
      "cell_type": "code",
      "metadata": {
        "id": "OWiV4AM1IvfD"
      },
      "source": [
        "x_train, x_test = x_train / 255.0, x_test / 255.0\n",
        "model = resnet_34()\n",
        "loss_object = tf.keras.losses.SparseCategoricalCrossentropy()\n",
        "optimizer = tf.keras.optimizers.Adam()\n",
        "train_accuracy = tf.keras.metrics.SparseCategoricalAccuracy(name='train_accuracy')\n",
        "model.compile(optimizer = optimizer, loss=loss_object, metrics=train_accuracy)"
      ],
      "execution_count": 14,
      "outputs": []
    },
    {
      "cell_type": "code",
      "metadata": {
        "colab": {
          "base_uri": "https://localhost:8080/"
        },
        "id": "nNOTpspR7lJ7",
        "outputId": "65d3bccd-65e8-4e4d-e6d4-5ed2227417ab"
      },
      "source": [
        "history = model.fit(x = x_train, y = y_train, epochs = EPOCHS, validation_data=(x_test, y_test), callbacks=[callback])"
      ],
      "execution_count": 15,
      "outputs": [
        {
          "output_type": "stream",
          "text": [
            "Epoch 1/50\n",
            "1563/1563 [==============================] - 93s 37ms/step - loss: 1.7507 - train_accuracy: 0.3944 - val_loss: 1.8408 - val_train_accuracy: 0.3510\n",
            "Epoch 2/50\n",
            "1563/1563 [==============================] - 57s 37ms/step - loss: 1.3562 - train_accuracy: 0.5317 - val_loss: 2.4661 - val_train_accuracy: 0.4132\n",
            "Epoch 3/50\n",
            "1563/1563 [==============================] - 59s 38ms/step - loss: 1.1448 - train_accuracy: 0.6097 - val_loss: 1.4508 - val_train_accuracy: 0.5024\n",
            "Epoch 4/50\n",
            "1563/1563 [==============================] - 57s 37ms/step - loss: 0.9643 - train_accuracy: 0.6677 - val_loss: 1.6032 - val_train_accuracy: 0.5392\n",
            "Epoch 5/50\n",
            "1563/1563 [==============================] - 57s 37ms/step - loss: 0.8585 - train_accuracy: 0.7063 - val_loss: 0.8814 - val_train_accuracy: 0.7009\n",
            "Epoch 6/50\n",
            "1563/1563 [==============================] - 57s 37ms/step - loss: 0.7700 - train_accuracy: 0.7403 - val_loss: 1.1373 - val_train_accuracy: 0.6248\n",
            "Epoch 7/50\n",
            "1563/1563 [==============================] - 57s 37ms/step - loss: 0.6462 - train_accuracy: 0.7787 - val_loss: 0.8136 - val_train_accuracy: 0.7272\n",
            "Epoch 8/50\n",
            "1563/1563 [==============================] - 57s 37ms/step - loss: 0.5659 - train_accuracy: 0.8066 - val_loss: 0.7731 - val_train_accuracy: 0.7427\n",
            "Epoch 9/50\n",
            "1563/1563 [==============================] - 57s 37ms/step - loss: 0.4463 - train_accuracy: 0.8462 - val_loss: 1.0734 - val_train_accuracy: 0.6570\n",
            "Epoch 10/50\n",
            "1563/1563 [==============================] - 57s 37ms/step - loss: 0.3608 - train_accuracy: 0.8745 - val_loss: 0.7515 - val_train_accuracy: 0.7589\n",
            "Epoch 11/50\n",
            "1563/1563 [==============================] - 59s 38ms/step - loss: 0.2751 - train_accuracy: 0.9058 - val_loss: 0.8677 - val_train_accuracy: 0.7440\n",
            "Epoch 12/50\n",
            "1563/1563 [==============================] - 57s 37ms/step - loss: 0.1995 - train_accuracy: 0.9314 - val_loss: 0.9105 - val_train_accuracy: 0.7572\n",
            "Epoch 13/50\n",
            "1563/1563 [==============================] - 57s 37ms/step - loss: 0.1544 - train_accuracy: 0.9486 - val_loss: 1.1623 - val_train_accuracy: 0.7257\n",
            "Epoch 14/50\n",
            "1563/1563 [==============================] - 57s 37ms/step - loss: 0.1073 - train_accuracy: 0.9639 - val_loss: 1.2611 - val_train_accuracy: 0.7302\n",
            "Epoch 15/50\n",
            "1563/1563 [==============================] - 57s 36ms/step - loss: 0.0913 - train_accuracy: 0.9694 - val_loss: 1.0871 - val_train_accuracy: 0.7583\n",
            "Epoch 16/50\n",
            "1563/1563 [==============================] - 57s 37ms/step - loss: 0.0595 - train_accuracy: 0.9801 - val_loss: 1.3261 - val_train_accuracy: 0.7397\n",
            "Epoch 17/50\n",
            "1563/1563 [==============================] - 57s 37ms/step - loss: 0.0480 - train_accuracy: 0.9837 - val_loss: 1.2828 - val_train_accuracy: 0.7566\n",
            "Epoch 18/50\n",
            "1563/1563 [==============================] - 57s 37ms/step - loss: 0.0381 - train_accuracy: 0.9872 - val_loss: 1.8195 - val_train_accuracy: 0.7371\n",
            "Epoch 19/50\n",
            "1563/1563 [==============================] - 57s 37ms/step - loss: 0.0326 - train_accuracy: 0.9888 - val_loss: 1.3221 - val_train_accuracy: 0.7635\n",
            "Epoch 20/50\n",
            "1563/1563 [==============================] - 57s 37ms/step - loss: 0.0249 - train_accuracy: 0.9915 - val_loss: 1.4049 - val_train_accuracy: 0.7666\n",
            "Epoch 21/50\n",
            "1563/1563 [==============================] - 57s 37ms/step - loss: 0.0205 - train_accuracy: 0.9936 - val_loss: 1.6638 - val_train_accuracy: 0.7618\n",
            "Epoch 22/50\n",
            "1563/1563 [==============================] - 57s 37ms/step - loss: 0.0175 - train_accuracy: 0.9938 - val_loss: 1.7143 - val_train_accuracy: 0.7682\n",
            "Epoch 23/50\n",
            "1563/1563 [==============================] - 57s 37ms/step - loss: 0.0140 - train_accuracy: 0.9953 - val_loss: 1.8041 - val_train_accuracy: 0.7687\n",
            "Epoch 24/50\n",
            "1563/1563 [==============================] - 58s 37ms/step - loss: 0.0121 - train_accuracy: 0.9962 - val_loss: 2.7724 - val_train_accuracy: 0.7625\n",
            "Epoch 25/50\n",
            "1563/1563 [==============================] - 58s 37ms/step - loss: 0.0095 - train_accuracy: 0.9968 - val_loss: 5.5415 - val_train_accuracy: 0.7628\n",
            "Epoch 26/50\n",
            "1563/1563 [==============================] - 58s 37ms/step - loss: 0.0087 - train_accuracy: 0.9970 - val_loss: 6.0401 - val_train_accuracy: 0.7556\n",
            "Epoch 27/50\n",
            "1563/1563 [==============================] - 59s 38ms/step - loss: 0.0048 - train_accuracy: 0.9987 - val_loss: 2.5342 - val_train_accuracy: 0.7652\n",
            "Epoch 28/50\n",
            "1563/1563 [==============================] - 57s 37ms/step - loss: 0.0066 - train_accuracy: 0.9981 - val_loss: 3.6059 - val_train_accuracy: 0.7648\n",
            "Epoch 29/50\n",
            "1563/1563 [==============================] - 57s 37ms/step - loss: 0.0044 - train_accuracy: 0.9987 - val_loss: 4.5867 - val_train_accuracy: 0.7642\n",
            "Epoch 30/50\n",
            "1563/1563 [==============================] - 59s 38ms/step - loss: 0.0038 - train_accuracy: 0.9989 - val_loss: 3.4248 - val_train_accuracy: 0.7525\n",
            "Epoch 31/50\n",
            "1563/1563 [==============================] - 58s 37ms/step - loss: 0.0033 - train_accuracy: 0.9990 - val_loss: 3.0643 - val_train_accuracy: 0.7718\n",
            "Epoch 32/50\n",
            "1563/1563 [==============================] - 58s 37ms/step - loss: 0.0027 - train_accuracy: 0.9992 - val_loss: 4.1309 - val_train_accuracy: 0.7647\n",
            "Epoch 33/50\n",
            "1563/1563 [==============================] - 58s 37ms/step - loss: 0.0028 - train_accuracy: 0.9992 - val_loss: 4.8565 - val_train_accuracy: 0.7687\n",
            "Epoch 34/50\n",
            "1563/1563 [==============================] - 57s 37ms/step - loss: 0.0022 - train_accuracy: 0.9994 - val_loss: 7.6248 - val_train_accuracy: 0.7654\n",
            "Epoch 35/50\n",
            "1563/1563 [==============================] - 57s 37ms/step - loss: 0.0016 - train_accuracy: 0.9996 - val_loss: 4.4927 - val_train_accuracy: 0.7618\n",
            "Epoch 36/50\n",
            "1563/1563 [==============================] - 57s 37ms/step - loss: 0.0020 - train_accuracy: 0.9994 - val_loss: 2.8651 - val_train_accuracy: 0.7739\n",
            "Epoch 37/50\n",
            "1563/1563 [==============================] - 57s 37ms/step - loss: 0.0013 - train_accuracy: 0.9996 - val_loss: 3.7821 - val_train_accuracy: 0.7689\n",
            "Epoch 38/50\n",
            "1563/1563 [==============================] - 57s 37ms/step - loss: 0.0012 - train_accuracy: 0.9997 - val_loss: 8.4522 - val_train_accuracy: 0.7630\n",
            "Epoch 39/50\n",
            "1563/1563 [==============================] - 57s 37ms/step - loss: 8.6723e-04 - train_accuracy: 0.9997 - val_loss: 13.0087 - val_train_accuracy: 0.7649\n",
            "Epoch 40/50\n",
            "1563/1563 [==============================] - 59s 38ms/step - loss: 0.0011 - train_accuracy: 0.9997 - val_loss: 11.5371 - val_train_accuracy: 0.7679\n",
            "Epoch 41/50\n",
            "1563/1563 [==============================] - 57s 37ms/step - loss: 6.1531e-04 - train_accuracy: 0.9999 - val_loss: 12.8057 - val_train_accuracy: 0.7697\n",
            "Epoch 42/50\n",
            "1563/1563 [==============================] - 57s 37ms/step - loss: 6.3879e-04 - train_accuracy: 0.9999 - val_loss: 19.2517 - val_train_accuracy: 0.7676\n",
            "Epoch 43/50\n",
            "1563/1563 [==============================] - 57s 37ms/step - loss: 4.4576e-04 - train_accuracy: 0.9999 - val_loss: 15.7288 - val_train_accuracy: 0.7686\n",
            "Epoch 44/50\n",
            "1563/1563 [==============================] - 57s 37ms/step - loss: 4.4918e-04 - train_accuracy: 0.9999 - val_loss: 28.2977 - val_train_accuracy: 0.7631\n",
            "Epoch 45/50\n",
            "1563/1563 [==============================] - 57s 37ms/step - loss: 4.6754e-04 - train_accuracy: 0.9999 - val_loss: 18.4682 - val_train_accuracy: 0.7687\n",
            "Epoch 46/50\n",
            "1563/1563 [==============================] - 57s 37ms/step - loss: 4.1980e-04 - train_accuracy: 0.9999 - val_loss: 17.0535 - val_train_accuracy: 0.7698\n",
            "Epoch 47/50\n",
            "1563/1563 [==============================] - 57s 37ms/step - loss: 4.1361e-04 - train_accuracy: 0.9999 - val_loss: 22.6955 - val_train_accuracy: 0.7693\n",
            "Epoch 48/50\n",
            "1563/1563 [==============================] - 57s 37ms/step - loss: 2.5237e-04 - train_accuracy: 1.0000 - val_loss: 20.0700 - val_train_accuracy: 0.7711\n",
            "Epoch 49/50\n",
            "1563/1563 [==============================] - 57s 37ms/step - loss: 3.2963e-04 - train_accuracy: 0.9999 - val_loss: 32.8299 - val_train_accuracy: 0.7653\n",
            "Epoch 50/50\n",
            "1563/1563 [==============================] - 57s 37ms/step - loss: 2.2871e-04 - train_accuracy: 1.0000 - val_loss: 23.2348 - val_train_accuracy: 0.7695\n"
          ],
          "name": "stdout"
        }
      ]
    },
    {
      "cell_type": "code",
      "metadata": {
        "id": "swFMbqx29GCk"
      },
      "source": [
        "history_dict = history.history\n",
        "\n",
        "loss = history_dict[\"loss\"]\n",
        "train_accuracy = history_dict[\"train_accuracy\"]\n",
        "val_loss = history_dict[\"val_loss\"]\n",
        "val_train_accuracy = history_dict[\"val_train_accuracy\"]"
      ],
      "execution_count": 16,
      "outputs": []
    },
    {
      "cell_type": "code",
      "metadata": {
        "colab": {
          "base_uri": "https://localhost:8080/",
          "height": 334
        },
        "id": "6Ud47mZ_Q9vC",
        "outputId": "cb3f4845-6173-41d8-8822-1c91d3e35997"
      },
      "source": [
        "epochs = range(1, len(loss) + 1)\n",
        "fig, (ax1, ax2) = plt.subplots(1, 2)\n",
        "\n",
        "fig.set_figheight(5)\n",
        "fig.set_figwidth(15)\n",
        "\n",
        "ax1.plot(epochs, loss, label = \"Training Loss\")\n",
        "ax1.plot(epochs, val_loss, label = \"Validation Loss\")\n",
        "ax1.set(xlabel = \"Epochs\", ylabel = \"Loss\")\n",
        "ax1.legend()\n",
        "\n",
        "ax2.plot(epochs, train_accuracy, label = \"Training Accuracy\")\n",
        "ax2.plot(epochs, val_train_accuracy, label = \"Validation Training Accuracy\")\n",
        "ax2.set(xlabel = \"Epochs\", ylabel = \"Accuracy\")\n",
        "ax2.legend()\n",
        "\n",
        "plt.show()"
      ],
      "execution_count": 17,
      "outputs": [
        {
          "output_type": "display_data",
          "data": {
            "image/png": "[encoded data removed]",
            "text/plain": [
              "<Figure size 1080x360 with 2 Axes>"
            ]
          },
          "metadata": {
            "tags": [],
            "needs_background": "light"
          }
        }
      ]
    },
    {
      "cell_type": "code",
      "metadata": {
        "colab": {
          "base_uri": "https://localhost:8080/"
        },
        "id": "ZM1Bp8ximStI",
        "outputId": "6b94edaf-fc37-4836-f5e3-9f546865842b"
      },
      "source": [
        "model.save(\"resnet-34\")"
      ],
      "execution_count": 18,
      "outputs": [
        {
          "output_type": "stream",
          "text": [
            "INFO:tensorflow:Assets written to: resnet-34/assets\n"
          ],
          "name": "stdout"
        }
      ]
    }
  ]
}